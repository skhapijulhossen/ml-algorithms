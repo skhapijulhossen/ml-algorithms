{
 "cells": [
  {
   "cell_type": "markdown",
   "metadata": {},
   "source": [
    "# K Nearest Neihgbors"
   ]
  },
  {
   "cell_type": "code",
   "execution_count": null,
   "metadata": {},
   "outputs": [],
   "source": [
    "import numpy as np\n",
    "import pandas as pd\n",
    "import matplotlib.pyplot as pyplot\n",
    "import seaborn as sns\n",
    "%matplotlib inline"
   ]
  },
  {
   "cell_type": "code",
   "execution_count": null,
   "metadata": {},
   "outputs": [],
   "source": [
    "train_data = pd.read_csv(r'.\\train.csv')\n",
    "train_data.head()"
   ]
  },
  {
   "cell_type": "code",
   "execution_count": null,
   "metadata": {},
   "outputs": [],
   "source": [
    "test_data = pd.read_csv(r'.\\test.csv')\n",
    "test_data.head()"
   ]
  },
  {
   "cell_type": "markdown",
   "metadata": {},
   "source": [
    "# Visualization"
   ]
  },
  {
   "cell_type": "code",
   "execution_count": null,
   "metadata": {},
   "outputs": [],
   "source": [
    "sns.pairplot(train_data, hue='diabetes')"
   ]
  },
  {
   "cell_type": "code",
   "execution_count": null,
   "metadata": {},
   "outputs": [],
   "source": [
    "train_data.describe().T"
   ]
  },
  {
   "cell_type": "code",
   "execution_count": null,
   "metadata": {},
   "outputs": [],
   "source": [
    "train_data.info()"
   ]
  },
  {
   "cell_type": "markdown",
   "metadata": {},
   "source": [
    "# K Nearest Neighbors"
   ]
  },
  {
   "cell_type": "code",
   "execution_count": null,
   "metadata": {},
   "outputs": [],
   "source": [
    "split = int(train_data.shape[0] * 0.8)\n",
    "split"
   ]
  },
  {
   "cell_type": "code",
   "execution_count": null,
   "metadata": {},
   "outputs": [],
   "source": [
    "train_X = train_data[['glucose_concentration', 'blood_pressure']]\n",
    "trainX = train_X[:split]\n",
    "testX = train_X[split:]\n",
    "testX"
   ]
  },
  {
   "cell_type": "code",
   "execution_count": null,
   "metadata": {},
   "outputs": [],
   "source": [
    "train_Y = train_data[['diabetes']]\n",
    "trainY = train_Y[:split]\n",
    "trainY\n",
    "testY = train_Y[split:]"
   ]
  },
  {
   "cell_type": "code",
   "execution_count": null,
   "metadata": {},
   "outputs": [],
   "source": [
    "testX = test_data[['glucose_concentration', 'blood_pressure']]"
   ]
  },
  {
   "cell_type": "code",
   "execution_count": null,
   "metadata": {},
   "outputs": [],
   "source": [
    "from scipy.stats import mode\n",
    "\n",
    "\n",
    "class KNNClassifier:\n",
    "\n",
    "    def __init__(self, k=3):\n",
    "        self.n_neighbors = k\n",
    "        self.k_neighbors = None\n",
    "\n",
    "    def fit(self, X: np.ndarray, y: np.ndarray):\n",
    "        self.X = X\n",
    "        self.y = y\n",
    "        return f\"KNNClassifier(n_neighrbors={self.n_neighbors})\"\n",
    "\n",
    "    def predict(self, x: np.ndarray):\n",
    "        self.predictions = []\n",
    "        distance_matrix = None\n",
    "        for obs in x:\n",
    "            sq = np.power((x - obs), 2)\n",
    "            sq_sum = sq.sum(axis=1, keepdims=True)\n",
    "            distance_matrix = np.sqrt(sq_sum)\n",
    "            self.k_neighbors = np.argsort(distance_matrix.ravel())[\n",
    "                :self.n_neighbors]\n",
    "            votes = self.y[self.k_neighbors]\n",
    "            majority = mode(votes)\n",
    "            self.predictions.append(majority[0][0])\n",
    "        return np.array(self.predictions)\n"
   ]
  },
  {
   "cell_type": "markdown",
   "metadata": {},
   "source": [
    "# Model Evaluators\n"
   ]
  },
  {
   "cell_type": "code",
   "execution_count": null,
   "metadata": {},
   "outputs": [],
   "source": [
    "clf = KNNClassifier(k=9)\n",
    "clf.fit(trainX.values,trainY.values)\n",
    "yhat = clf.predict(testX.values)"
   ]
  },
  {
   "cell_type": "code",
   "execution_count": null,
   "metadata": {},
   "outputs": [],
   "source": [
    "def Jaccard_index(Y, yhat):\n",
    "    total = len(Y)\n",
    "    if not isinstance(Y, np.ndarray):\n",
    "        Y = Y.values\n",
    "    if not isinstance(yhat, np.ndarray):\n",
    "        yhat = yhat.values\n",
    "    correct_prediction = sum(\n",
    "        [1 if Y[index][0] == yhat[index][0] else 0 for index in range(total)])\n",
    "    jaccard_index_score = (\n",
    "        correct_prediction/((total+total) - correct_prediction))\n",
    "    return round(jaccard_index_score, 4)\n",
    "\n",
    "\n",
    "def F1_Score(Y, yhat):\n",
    "    total = len(Y)\n",
    "    f1_score = []\n",
    "    if not isinstance(Y, np.ndarray):\n",
    "        Y = Y.values\n",
    "    if not isinstance(yhat, np.ndarray):\n",
    "        yhat = yhat.values\n",
    "    TP = 0\n",
    "    FN = 0\n",
    "    FP = 0\n",
    "    TN = 0\n",
    "    for index in range(total):\n",
    "        if Y[index][0] == yhat[index][0]:\n",
    "            if Y[index][0] == 1:\n",
    "                TP += 1\n",
    "            else:\n",
    "                TN += 1\n",
    "        else:\n",
    "            if yhat[index][0] == 1:\n",
    "                FN += 1\n",
    "            else:\n",
    "                FP += 1\n",
    "    precision_1 = TP/(TP+FP)\n",
    "    recall_1 = TP/(TP+FN)\n",
    "    f1_score.append((2*(precision_1*recall_1))/(precision_1+recall_1))\n",
    "    precision_0 = TN/(TN+FN)\n",
    "    recall_0 = TN/(TN+FP)\n",
    "    f1_score.append((2*(precision_0*recall_0))/(precision_0+recall_0))\n",
    "    return round((sum(f1_score)/len(f1_score)), 4)\n"
   ]
  },
  {
   "cell_type": "code",
   "execution_count": null,
   "metadata": {},
   "outputs": [],
   "source": [
    "\n",
    "Jaccard_index(testY, yhat)\n"
   ]
  },
  {
   "cell_type": "code",
   "execution_count": null,
   "metadata": {},
   "outputs": [],
   "source": [
    "F1_Score(testY, yhat)"
   ]
  },
  {
   "cell_type": "code",
   "execution_count": null,
   "metadata": {},
   "outputs": [],
   "source": []
  },
  {
   "cell_type": "code",
   "execution_count": null,
   "metadata": {},
   "outputs": [],
   "source": []
  }
 ],
 "metadata": {
  "interpreter": {
   "hash": "2be5faf79681da6f2a61fdfdd5405d65d042280f7fba6178067603e3a2925119"
  },
  "kernelspec": {
   "display_name": "Python 3 (ipykernel)",
   "language": "python",
   "name": "python3"
  },
  "language_info": {
   "codemirror_mode": {
    "name": "ipython",
    "version": 3
   },
   "file_extension": ".py",
   "mimetype": "text/x-python",
   "name": "python",
   "nbconvert_exporter": "python",
   "pygments_lexer": "ipython3",
   "version": "3.10.1"
  },
  "metadata": {
   "interpreter": {
    "hash": "5e02d0efff813a9368c354e505ea65821711dca306094a6f79d155d3e22f7a88"
   }
  },
  "toc": {
   "base_numbering": 1,
   "nav_menu": {},
   "number_sections": true,
   "sideBar": true,
   "skip_h1_title": false,
   "title_cell": "Table of Contents",
   "title_sidebar": "Contents",
   "toc_cell": false,
   "toc_position": {},
   "toc_section_display": true,
   "toc_window_display": false
  },
  "varInspector": {
   "cols": {
    "lenName": 16,
    "lenType": 16,
    "lenVar": 40
   },
   "kernels_config": {
    "python": {
     "delete_cmd_postfix": "",
     "delete_cmd_prefix": "del ",
     "library": "var_list.py",
     "varRefreshCmd": "print(var_dic_list())"
    },
    "r": {
     "delete_cmd_postfix": ") ",
     "delete_cmd_prefix": "rm(",
     "library": "var_list.r",
     "varRefreshCmd": "cat(var_dic_list()) "
    }
   },
   "types_to_exclude": [
    "module",
    "function",
    "builtin_function_or_method",
    "instance",
    "_Feature"
   ],
   "window_display": false
  }
 },
 "nbformat": 4,
 "nbformat_minor": 2
}
